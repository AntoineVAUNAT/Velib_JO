{
 "cells": [
  {
   "cell_type": "code",
   "execution_count": 2,
   "id": "72797044",
   "metadata": {},
   "outputs": [],
   "source": [
    "import pandas as pd"
   ]
  },
  {
   "cell_type": "markdown",
   "id": "e630f457",
   "metadata": {},
   "source": [
    " # IMPORT DES JEUX DE DONNEES VELIB"
   ]
  },
  {
   "cell_type": "code",
   "execution_count": null,
   "id": "e9805844",
   "metadata": {},
   "outputs": [],
   "source": [
    "# Fonction qui traite les données d'une dataframe\n",
    "# -> Conversion aux bons formats etc..\n",
    "\n",
    "def traitement_data(file):\n",
    "    \n",
    "    print(\"Chargement du csv ... \")\n",
    "    df = pd.read_csv(file, keep_default_na=False)\n",
    "    print('\\n')\n",
    "\n",
    "    print(\"Traitement des données ... \")\n",
    "    print('\\n')\n",
    "    \n",
    "    print('Conversion datetime :')\n",
    "    df['ping_time'] = pd.to_datetime(df['ping_time'].str.strip(), format='%d/%m/%Y %H:%M:%S')\n",
    "    \n",
    "    df['duedate'] = pd.to_datetime(df['duedate'].str.strip().str.replace('T', ' ')\\\n",
    "                                                .str.replace('+02', '' ).str.replace('+01', '' ), format='%Y-%m-%d %H:%M:%S:%f')\n",
    "    \n",
    "    print('Conversion coordonnees géographiques:')\n",
    "    \n",
    "    df['latitude'] =  df['coordonnees_geo'].str.strip().str.replace('[', ' ')\\\n",
    "        .str.replace(']', ' ').str.split(',', expand=True)[0].astype('float')\n",
    "    \n",
    "    df['longitude'] =  df['coordonnees_geo'].str.strip().str.replace('[', ' ')\\\n",
    "        .str.replace(']', ' ').str.split(',', expand=True)[1].astype('float')\n",
    "    \n",
    "    df = df.drop(columns='coordonnees_geo')\n",
    "    \n",
    "    print('Conversion bool')\n",
    "    df['is_renting']     = df['is_renting'].str.strip().replace('NON', False)\n",
    "    df['is_renting']     = df['is_renting'].str.strip().replace('OUI', True)\n",
    "    df['is_renting']     = df['is_renting'].astype('bool')\n",
    "    \n",
    "    df['is_installed']   = df['is_installed'].str.strip().replace('NON', False)\n",
    "    df['is_installed']   = df['is_installed'].str.strip().replace('OUI', True)\n",
    "    df['is_installed']   = df['is_installed'].astype('bool')\n",
    "    \n",
    "    df['is_returning']   = df['is_returning'].str.strip().replace('NON', False)\n",
    "    df['is_returning']   = df['is_returning'].str.strip().replace('OUI', True)\n",
    "    df['is_returning']   = df['is_returning'].astype('bool')\n",
    "    \n",
    "    print(\"Conversion str\")\n",
    "    df['nom_arrondissement_communes'] = df['nom_arrondissement_communes'].str.strip().astype('string')\n",
    "    df['name'] = df['name'].str.strip().astype('string')\n",
    "   \n",
    "    # station code contient des str, on les convertis en int\n",
    "    print(\"Conversion int\")\n",
    "    \n",
    "    if not(df['stationcode'].apply(type) == str).sum()==0:\n",
    "        df.loc[(df['stationcode'].apply(type) == str), 'stationcode'] = \\\n",
    "            df.loc[(df['stationcode'].apply(type) == str), 'stationcode'].str.extract('(\\d+)')[0].astype(float)\n",
    "    df= df.dropna()\n",
    "    df['stationcode'] = df['stationcode'].astype(int)\n",
    "    \n",
    "    # idem pour capacity\n",
    "    if not(df['capacity'].apply(type) == str).sum()==0:\n",
    "        df.loc[(df['capacity'].apply(type) == str), 'capacity'] = \\\n",
    "            df.loc[(df['capacity'].apply(type) == str), 'capacity'].str.extract('(\\d+)')[0].astype(float)\n",
    "    df= df.dropna()\n",
    "    df['capacity'] = df['capacity'].astype(int)\n",
    "    \n",
    "    \n",
    "    print(\"\\n\")\n",
    "\n",
    "    \n",
    "    return df\n"
   ]
  },
  {
   "cell_type": "code",
   "execution_count": 3,
   "id": "4d1251d3",
   "metadata": {},
   "outputs": [],
   "source": [
    "#df = pd.read_csv(\"C:\\\\Users\\\\kabah\\\\OneDrive\\\\Bureau\\\\lepont\\\\29 capstone 3\\\\2022 velib csv\\\\Velib_AUG_2022\\\\Velib_AUG_2022.csv\")\n",
    "#df"
   ]
  },
  {
   "cell_type": "code",
   "execution_count": 4,
   "id": "c6c4c58d",
   "metadata": {},
   "outputs": [
    {
     "name": "stdout",
     "output_type": "stream",
     "text": [
      "2022 JAN False\n",
      "2022 FEB False\n",
      "2022 MAY True\n",
      "2022 JUNE True\n",
      "2022 JULY True\n",
      "2022 AUG True\n",
      "2022 SEP False\n",
      "2022 OCT False\n",
      "2022 NOV True\n"
     ]
    },
    {
     "name": "stderr",
     "output_type": "stream",
     "text": [
      "C:\\Users\\kabah\\AppData\\Local\\Temp\\ipykernel_4180\\368871283.py:45: DtypeWarning: Columns (1) have mixed types. Specify dtype option on import or set low_memory=False.\n",
      "  df[mois+'_'+date] = pd.read_csv(file)\n"
     ]
    },
    {
     "name": "stdout",
     "output_type": "stream",
     "text": [
      "2022 DEC True\n",
      "2023 JAN True\n",
      "2023 FEB True\n"
     ]
    },
    {
     "name": "stderr",
     "output_type": "stream",
     "text": [
      "C:\\Users\\kabah\\AppData\\Local\\Temp\\ipykernel_4180\\368871283.py:45: DtypeWarning: Columns (1) have mixed types. Specify dtype option on import or set low_memory=False.\n",
      "  df[mois+'_'+date] = pd.read_csv(file)\n"
     ]
    },
    {
     "name": "stdout",
     "output_type": "stream",
     "text": [
      "2023 MAY True\n",
      "2023 JUNE True\n",
      "2023 JULY True\n",
      "2023 AUG True\n",
      "2023 SEP True\n",
      "2023 OCT True\n",
      "2023 NOV False\n",
      "2023 DEC False\n"
     ]
    }
   ],
   "source": [
    "def checkFileExistance(filePath):\n",
    "\n",
    "    try:\n",
    "\n",
    "        with open(filePath, \"r\") as f:\n",
    "\n",
    "            return True\n",
    "\n",
    "    except FileNotFoundError as e:\n",
    "\n",
    "        return False\n",
    "\n",
    "    except IOError as e:\n",
    "\n",
    "        return False\n",
    "\n",
    "\n",
    "\n",
    "# liste des mois \n",
    "\n",
    "L = ['JAN', 'FEB', 'MAY', 'JUNE', 'JULY', 'AUG', 'SEP', 'OCT', 'NOV', 'DEC']\n",
    " \n",
    "# dataframe sous forme de dictionnaire\n",
    "\n",
    "df = {}\n",
    " \n",
    "# On parcours les années\n",
    "\n",
    "for date in ['2022', '2023']:\n",
    "\n",
    "    # Puis les mois listés dans L\n",
    "\n",
    "    for mois in L:\n",
    "\n",
    "        # file : nom du fichier cible\n",
    "\n",
    "        file = 'C:\\\\Users\\\\kabah\\\\OneDrive\\\\Bureau\\\\velib csv\\\\Velib_'+mois+'_'+date+'.csv'   #\"C:\\Users\\kabah\\OneDrive\\Bureau\\velib csv\\Velib_AUG_2022.csv\"\"\n",
    " \n",
    "        # je teste l'existance de file\n",
    "\n",
    "        if checkFileExistance(file):\n",
    "\n",
    "            # SI il est existe de stock le resultat dans le dicitnnaire\n",
    "\n",
    "            df[mois+'_'+date] = pd.read_csv(file)\n",
    "\n",
    "        # J'afffiche le mois et l'année pour savoir ou j'en suis dans la boucle\n",
    "\n",
    "        print(date + ' ' + mois, checkFileExistance(file))\n",
    "\n"
   ]
  },
  {
   "cell_type": "code",
   "execution_count": 5,
   "id": "15ea2365",
   "metadata": {},
   "outputs": [],
   "source": [
    "# name : string\n",
    "# stationcode : int\n",
    "# ebike (nombre vélo electrique dispo au moment du ping): int\n",
    "# mechanical (nombre vélo mécanique dispo au moment du ping): int\n",
    "# coordonnées_géo : lat, long : A SEPARER EN DEUX FLOAT\n",
    "# duedate ??  : METTRE AU FORMAT DATE\n",
    "# numbike available (nbr vélo disponible sur la borne au moment du ping): int \n",
    "# numdockavailable (nbr dock disponible sur la borne au moment du ping): int\n",
    "# capacity (nombre de bornes de la station): A METTRE EN INT\n",
    "# is renting (OUI: ya un vélo a louer. NON: ya pas de vélo dispo) : A METTRE EN BOOL\n",
    "# is installed (OUI: la station est installée, NON elle ne l'est pas): A METTRE EN BOOL\n",
    "# nim_arrondissement : Sring\n",
    "# is returning (?????????): A METTRE EN BOOL\n",
    "# Ping time (date a la quelle les données ont été mise a jour) : A METTRE AU FORMAT DATETOIME\n"
   ]
  },
  {
   "cell_type": "code",
   "execution_count": 6,
   "id": "c23b38fa",
   "metadata": {},
   "outputs": [],
   "source": [
    "# 14 fichiers csv table 14 colonnes 3561610 lignes \n",
    "# format : texte (string), int, date, \n",
    "# mai 2022"
   ]
  },
  {
   "cell_type": "markdown",
   "id": "dc323086",
   "metadata": {},
   "source": [
    " # PRESENTATION DES DONNEES "
   ]
  },
  {
   "cell_type": "markdown",
   "id": "ba59c566",
   "metadata": {},
   "source": [
    "On a 14 datasets qui nous fournissent les données enregistrées dans les stations velib en région parisienne.\n",
    "Chaque fichier représente les données d'un mois de l'année en 2022 et 2023."
   ]
  },
  {
   "cell_type": "markdown",
   "id": "c23aae3f",
   "metadata": {},
   "source": [
    "MAI  2022"
   ]
  },
  {
   "cell_type": "code",
   "execution_count": 7,
   "id": "da53b660",
   "metadata": {
    "scrolled": true
   },
   "outputs": [
    {
     "name": "stdout",
     "output_type": "stream",
     "text": [
      "<class 'pandas.core.frame.DataFrame'>\n",
      "RangeIndex: 6200904 entries, 0 to 6200903\n",
      "Data columns (total 14 columns):\n",
      " #   Column                       Dtype  \n",
      "---  ------                       -----  \n",
      " 0   name                         object \n",
      " 1   stationcode                  object \n",
      " 2   ebike                        int64  \n",
      " 3   mechanical                   int64  \n",
      " 4   coordonnees_geo              object \n",
      " 5   duedate                      object \n",
      " 6   numbikesavailable            int64  \n",
      " 7   numdocksavailable            int64  \n",
      " 8   capacity                     float64\n",
      " 9   is_renting                   object \n",
      " 10  is_installed                 object \n",
      " 11  nom_arrondissement_communes  object \n",
      " 12  is_returning                 object \n",
      " 13  ping_time                    object \n",
      "dtypes: float64(1), int64(4), object(9)\n",
      "memory usage: 662.3+ MB\n"
     ]
    }
   ],
   "source": [
    "df['MAY_2022'].info() # 14 colonnes et 6200904 lignes"
   ]
  },
  {
   "cell_type": "code",
   "execution_count": 8,
   "id": "c8c3cf5a",
   "metadata": {
    "scrolled": true
   },
   "outputs": [
    {
     "data": {
      "text/plain": [
       "name                           15\n",
       "stationcode                     0\n",
       "ebike                           0\n",
       "mechanical                      0\n",
       "coordonnees_geo                15\n",
       "duedate                         0\n",
       "numbikesavailable               0\n",
       "numdocksavailable               0\n",
       "capacity                       15\n",
       "is_renting                      0\n",
       "is_installed                    0\n",
       "nom_arrondissement_communes    15\n",
       "is_returning                    0\n",
       "ping_time                       0\n",
       "dtype: int64"
      ]
     },
     "execution_count": 8,
     "metadata": {},
     "output_type": "execute_result"
    }
   ],
   "source": [
    "df['MAY_2022'].isnull().sum()   # 15 valeurs nulles dans 4 colonnes (name, coordonnees_geo, \n",
    "                                  #capacity, nom_arrondissement_communes)"
   ]
  },
  {
   "cell_type": "code",
   "execution_count": 9,
   "id": "dfe99044",
   "metadata": {},
   "outputs": [
    {
     "data": {
      "text/plain": [
       "6191127"
      ]
     },
     "execution_count": 9,
     "metadata": {},
     "output_type": "execute_result"
    }
   ],
   "source": [
    "df['MAY_2022'].nunique() \n",
    "\n",
    "df['MAY_2022'].duplicated(subset=['ping_time']).sum()"
   ]
  },
  {
   "cell_type": "code",
   "execution_count": 10,
   "id": "54d2827b",
   "metadata": {},
   "outputs": [
    {
     "data": {
      "text/plain": [
       "0"
      ]
     },
     "execution_count": 10,
     "metadata": {},
     "output_type": "execute_result"
    }
   ],
   "source": [
    "df['MAY_2022'].duplicated().sum() # pas de lignes en doublon"
   ]
  },
  {
   "cell_type": "markdown",
   "id": "adc4e676",
   "metadata": {},
   "source": [
    "JUIN 2022"
   ]
  },
  {
   "cell_type": "code",
   "execution_count": 11,
   "id": "5b97a7d4",
   "metadata": {},
   "outputs": [
    {
     "name": "stdout",
     "output_type": "stream",
     "text": [
      "<class 'pandas.core.frame.DataFrame'>\n",
      "RangeIndex: 6131928 entries, 0 to 6131927\n",
      "Data columns (total 14 columns):\n",
      " #   Column                       Dtype \n",
      "---  ------                       ----- \n",
      " 0   name                         object\n",
      " 1   stationcode                  object\n",
      " 2   ebike                        int64 \n",
      " 3   mechanical                   int64 \n",
      " 4   coordonnees_geo              object\n",
      " 5   duedate                      object\n",
      " 6   numbikesavailable            int64 \n",
      " 7   numdocksavailable            int64 \n",
      " 8   capacity                     int64 \n",
      " 9   is_renting                   object\n",
      " 10  is_installed                 object\n",
      " 11  nom_arrondissement_communes  object\n",
      " 12  is_returning                 object\n",
      " 13  ping_time                    object\n",
      "dtypes: int64(5), object(9)\n",
      "memory usage: 655.0+ MB\n"
     ]
    }
   ],
   "source": [
    "df['JUNE_2022'].info() # 14 colonnes et 6131927 lignes"
   ]
  },
  {
   "cell_type": "code",
   "execution_count": 12,
   "id": "75b5502c",
   "metadata": {
    "scrolled": true
   },
   "outputs": [
    {
     "data": {
      "text/plain": [
       "name                           0\n",
       "stationcode                    0\n",
       "ebike                          0\n",
       "mechanical                     0\n",
       "coordonnees_geo                0\n",
       "duedate                        0\n",
       "numbikesavailable              0\n",
       "numdocksavailable              0\n",
       "capacity                       0\n",
       "is_renting                     0\n",
       "is_installed                   0\n",
       "nom_arrondissement_communes    0\n",
       "is_returning                   0\n",
       "ping_time                      0\n",
       "dtype: int64"
      ]
     },
     "execution_count": 12,
     "metadata": {},
     "output_type": "execute_result"
    }
   ],
   "source": [
    "df['JUNE_2022'].isnull().sum() # pas de valeurs nulles"
   ]
  },
  {
   "cell_type": "code",
   "execution_count": 13,
   "id": "cdd970ab",
   "metadata": {
    "scrolled": true
   },
   "outputs": [
    {
     "data": {
      "text/plain": [
       "name                             1420\n",
       "stationcode                      1420\n",
       "ebike                              55\n",
       "mechanical                         73\n",
       "coordonnees_geo                  1429\n",
       "duedate                        302085\n",
       "numbikesavailable                  84\n",
       "numdocksavailable                  95\n",
       "capacity                           66\n",
       "is_renting                          2\n",
       "is_installed                        2\n",
       "nom_arrondissement_communes        60\n",
       "is_returning                        2\n",
       "ping_time                        8910\n",
       "dtype: int64"
      ]
     },
     "execution_count": 13,
     "metadata": {},
     "output_type": "execute_result"
    }
   ],
   "source": [
    "df['JUNE_2022'].nunique()"
   ]
  },
  {
   "cell_type": "code",
   "execution_count": 14,
   "id": "5c5b23c3",
   "metadata": {},
   "outputs": [
    {
     "data": {
      "text/plain": [
       "0"
      ]
     },
     "execution_count": 14,
     "metadata": {},
     "output_type": "execute_result"
    }
   ],
   "source": [
    "df['JUNE_2022'].duplicated().sum() # pas de lignes en doublon"
   ]
  },
  {
   "cell_type": "markdown",
   "id": "043ed066",
   "metadata": {},
   "source": [
    "JUILLET 2022"
   ]
  },
  {
   "cell_type": "code",
   "execution_count": 15,
   "id": "90e7435c",
   "metadata": {},
   "outputs": [
    {
     "name": "stdout",
     "output_type": "stream",
     "text": [
      "<class 'pandas.core.frame.DataFrame'>\n",
      "RangeIndex: 6332843 entries, 0 to 6332842\n",
      "Data columns (total 14 columns):\n",
      " #   Column                       Dtype  \n",
      "---  ------                       -----  \n",
      " 0   name                         object \n",
      " 1   stationcode                  object \n",
      " 2   ebike                        int64  \n",
      " 3   mechanical                   int64  \n",
      " 4   coordonnees_geo              object \n",
      " 5   duedate                      object \n",
      " 6   numbikesavailable            int64  \n",
      " 7   numdocksavailable            int64  \n",
      " 8   capacity                     float64\n",
      " 9   is_renting                   object \n",
      " 10  is_installed                 object \n",
      " 11  nom_arrondissement_communes  object \n",
      " 12  is_returning                 object \n",
      " 13  ping_time                    object \n",
      "dtypes: float64(1), int64(4), object(9)\n",
      "memory usage: 676.4+ MB\n"
     ]
    }
   ],
   "source": [
    "df['JULY_2022'].info() # 14 colonnes et 6332842 lignes"
   ]
  },
  {
   "cell_type": "code",
   "execution_count": 16,
   "id": "349ffc2d",
   "metadata": {},
   "outputs": [
    {
     "data": {
      "text/plain": [
       "name                           2\n",
       "stationcode                    0\n",
       "ebike                          0\n",
       "mechanical                     0\n",
       "coordonnees_geo                2\n",
       "duedate                        0\n",
       "numbikesavailable              0\n",
       "numdocksavailable              0\n",
       "capacity                       2\n",
       "is_renting                     0\n",
       "is_installed                   0\n",
       "nom_arrondissement_communes    2\n",
       "is_returning                   0\n",
       "ping_time                      0\n",
       "dtype: int64"
      ]
     },
     "execution_count": 16,
     "metadata": {},
     "output_type": "execute_result"
    }
   ],
   "source": [
    "df['JULY_2022'].isnull().sum() # 2 valeurs nulles dans 4 colonnes (name, coordonnees_geo, \n",
    "                                  #capacity, nom_arrondissement_communes)"
   ]
  },
  {
   "cell_type": "code",
   "execution_count": 17,
   "id": "644a00cf",
   "metadata": {
    "scrolled": true
   },
   "outputs": [
    {
     "data": {
      "text/plain": [
       "name                             1419\n",
       "stationcode                      1421\n",
       "ebike                              60\n",
       "mechanical                         72\n",
       "coordonnees_geo                  1447\n",
       "duedate                        317847\n",
       "numbikesavailable                  85\n",
       "numdocksavailable                  72\n",
       "capacity                           63\n",
       "is_renting                          2\n",
       "is_installed                        2\n",
       "nom_arrondissement_communes        60\n",
       "is_returning                        2\n",
       "ping_time                        5971\n",
       "dtype: int64"
      ]
     },
     "execution_count": 17,
     "metadata": {},
     "output_type": "execute_result"
    }
   ],
   "source": [
    "df['JULY_2022'].nunique()"
   ]
  },
  {
   "cell_type": "code",
   "execution_count": 18,
   "id": "c7db49b8",
   "metadata": {},
   "outputs": [
    {
     "data": {
      "text/plain": [
       "0"
      ]
     },
     "execution_count": 18,
     "metadata": {},
     "output_type": "execute_result"
    }
   ],
   "source": [
    "df['JULY_2022'].duplicated().sum() # pas de lignes en doublon"
   ]
  },
  {
   "cell_type": "markdown",
   "id": "b623aa2d",
   "metadata": {},
   "source": [
    "AOUT 2022"
   ]
  },
  {
   "cell_type": "code",
   "execution_count": 19,
   "id": "c69dcceb",
   "metadata": {},
   "outputs": [
    {
     "name": "stdout",
     "output_type": "stream",
     "text": [
      "<class 'pandas.core.frame.DataFrame'>\n",
      "RangeIndex: 6132310 entries, 0 to 6132309\n",
      "Data columns (total 14 columns):\n",
      " #   Column                       Dtype  \n",
      "---  ------                       -----  \n",
      " 0   name                         object \n",
      " 1   stationcode                  object \n",
      " 2   ebike                        int64  \n",
      " 3   mechanical                   int64  \n",
      " 4   coordonnees_geo              object \n",
      " 5   duedate                      object \n",
      " 6   numbikesavailable            int64  \n",
      " 7   numdocksavailable            int64  \n",
      " 8   capacity                     float64\n",
      " 9   is_renting                   object \n",
      " 10  is_installed                 object \n",
      " 11  nom_arrondissement_communes  object \n",
      " 12  is_returning                 object \n",
      " 13  ping_time                    object \n",
      "dtypes: float64(1), int64(4), object(9)\n",
      "memory usage: 655.0+ MB\n"
     ]
    }
   ],
   "source": [
    "df['AUG_2022'].info() # 14 colonnes et 6132309 lignes"
   ]
  },
  {
   "cell_type": "code",
   "execution_count": 20,
   "id": "86cbb1b8",
   "metadata": {},
   "outputs": [
    {
     "data": {
      "text/plain": [
       "name                           4\n",
       "stationcode                    0\n",
       "ebike                          0\n",
       "mechanical                     0\n",
       "coordonnees_geo                4\n",
       "duedate                        0\n",
       "numbikesavailable              0\n",
       "numdocksavailable              0\n",
       "capacity                       4\n",
       "is_renting                     0\n",
       "is_installed                   0\n",
       "nom_arrondissement_communes    4\n",
       "is_returning                   0\n",
       "ping_time                      0\n",
       "dtype: int64"
      ]
     },
     "execution_count": 20,
     "metadata": {},
     "output_type": "execute_result"
    }
   ],
   "source": [
    "df['AUG_2022'].isnull().sum()   # 4 valeurs nulles dans 4 colonnes (name, coordonnees_geo, \n",
    "                                  #capacity, nom_arrondissement_communes)"
   ]
  },
  {
   "cell_type": "code",
   "execution_count": 21,
   "id": "49a64447",
   "metadata": {},
   "outputs": [
    {
     "data": {
      "text/plain": [
       "name                             1420\n",
       "stationcode                      1423\n",
       "ebike                              58\n",
       "mechanical                         73\n",
       "coordonnees_geo                  1435\n",
       "duedate                        312446\n",
       "numbikesavailable                  82\n",
       "numdocksavailable                  69\n",
       "capacity                           63\n",
       "is_renting                          2\n",
       "is_installed                        2\n",
       "nom_arrondissement_communes        61\n",
       "is_returning                        2\n",
       "ping_time                        4997\n",
       "dtype: int64"
      ]
     },
     "execution_count": 21,
     "metadata": {},
     "output_type": "execute_result"
    }
   ],
   "source": [
    "df['AUG_2022'].nunique()"
   ]
  },
  {
   "cell_type": "code",
   "execution_count": 22,
   "id": "28f317df",
   "metadata": {},
   "outputs": [
    {
     "data": {
      "text/plain": [
       "0"
      ]
     },
     "execution_count": 22,
     "metadata": {},
     "output_type": "execute_result"
    }
   ],
   "source": [
    "df['AUG_2022'].duplicated().sum() # pas de ligne en doublon"
   ]
  },
  {
   "cell_type": "markdown",
   "id": "ca471a69",
   "metadata": {},
   "source": [
    "NOVEMBRE 2022"
   ]
  },
  {
   "cell_type": "code",
   "execution_count": 23,
   "id": "4d26d652",
   "metadata": {},
   "outputs": [
    {
     "name": "stdout",
     "output_type": "stream",
     "text": [
      "<class 'pandas.core.frame.DataFrame'>\n",
      "RangeIndex: 3561611 entries, 0 to 3561610\n",
      "Data columns (total 14 columns):\n",
      " #   Column                       Dtype  \n",
      "---  ------                       -----  \n",
      " 0   name                         object \n",
      " 1   stationcode                  object \n",
      " 2   ebike                        int64  \n",
      " 3   mechanical                   int64  \n",
      " 4   coordonnees_geo              object \n",
      " 5   duedate                      object \n",
      " 6   numbikesavailable            int64  \n",
      " 7   numdocksavailable            int64  \n",
      " 8   capacity                     float64\n",
      " 9   is_renting                   object \n",
      " 10  is_installed                 object \n",
      " 11  nom_arrondissement_communes  object \n",
      " 12  is_returning                 object \n",
      " 13  ping_time                    object \n",
      "dtypes: float64(1), int64(4), object(9)\n",
      "memory usage: 380.4+ MB\n"
     ]
    }
   ],
   "source": [
    "df['NOV_2022'].info()   # 14 colonnes et 3561610 lignes"
   ]
  },
  {
   "cell_type": "code",
   "execution_count": 24,
   "id": "6d2ba167",
   "metadata": {},
   "outputs": [
    {
     "data": {
      "text/plain": [
       "name                           9\n",
       "stationcode                    0\n",
       "ebike                          0\n",
       "mechanical                     0\n",
       "coordonnees_geo                9\n",
       "duedate                        0\n",
       "numbikesavailable              0\n",
       "numdocksavailable              0\n",
       "capacity                       9\n",
       "is_renting                     0\n",
       "is_installed                   0\n",
       "nom_arrondissement_communes    9\n",
       "is_returning                   0\n",
       "ping_time                      0\n",
       "dtype: int64"
      ]
     },
     "execution_count": 24,
     "metadata": {},
     "output_type": "execute_result"
    }
   ],
   "source": [
    "df['NOV_2022'].isnull().sum()  # 9 valeurs nulles dans 4 colonnes (name, coordonnees_geo, \n",
    "                                  #capacity, nom_arrondissement_communes)"
   ]
  },
  {
   "cell_type": "code",
   "execution_count": 25,
   "id": "b8c35ec4",
   "metadata": {
    "scrolled": true
   },
   "outputs": [
    {
     "data": {
      "text/plain": [
       "name                             1430\n",
       "stationcode                      1432\n",
       "ebike                              53\n",
       "mechanical                         73\n",
       "coordonnees_geo                  1446\n",
       "duedate                        300688\n",
       "numbikesavailable                  84\n",
       "numdocksavailable                  71\n",
       "capacity                           63\n",
       "is_renting                          2\n",
       "is_installed                        2\n",
       "nom_arrondissement_communes        61\n",
       "is_returning                        2\n",
       "ping_time                        2558\n",
       "dtype: int64"
      ]
     },
     "execution_count": 25,
     "metadata": {},
     "output_type": "execute_result"
    }
   ],
   "source": [
    "df['NOV_2022'].nunique()"
   ]
  },
  {
   "cell_type": "code",
   "execution_count": 26,
   "id": "844521f4",
   "metadata": {},
   "outputs": [
    {
     "data": {
      "text/plain": [
       "0"
      ]
     },
     "execution_count": 26,
     "metadata": {},
     "output_type": "execute_result"
    }
   ],
   "source": [
    "df['NOV_2022'].duplicated().sum()  # pas de lignes en doublon"
   ]
  },
  {
   "cell_type": "markdown",
   "id": "821ce344",
   "metadata": {},
   "source": [
    "DECEMBRE 2022"
   ]
  },
  {
   "cell_type": "code",
   "execution_count": 27,
   "id": "ad14ec0f",
   "metadata": {},
   "outputs": [
    {
     "name": "stdout",
     "output_type": "stream",
     "text": [
      "<class 'pandas.core.frame.DataFrame'>\n",
      "RangeIndex: 2584755 entries, 0 to 2584754\n",
      "Data columns (total 14 columns):\n",
      " #   Column                       Dtype  \n",
      "---  ------                       -----  \n",
      " 0   name                         object \n",
      " 1   stationcode                  object \n",
      " 2   ebike                        int64  \n",
      " 3   mechanical                   int64  \n",
      " 4   coordonnees_geo              object \n",
      " 5   duedate                      object \n",
      " 6   numbikesavailable            int64  \n",
      " 7   numdocksavailable            int64  \n",
      " 8   capacity                     float64\n",
      " 9   is_renting                   object \n",
      " 10  is_installed                 object \n",
      " 11  nom_arrondissement_communes  object \n",
      " 12  is_returning                 object \n",
      " 13  ping_time                    object \n",
      "dtypes: float64(1), int64(4), object(9)\n",
      "memory usage: 276.1+ MB\n"
     ]
    }
   ],
   "source": [
    "df['DEC_2022'].info()      # 14 colonnes et  2584754 lignes"
   ]
  },
  {
   "cell_type": "code",
   "execution_count": 28,
   "id": "53068539",
   "metadata": {},
   "outputs": [
    {
     "data": {
      "text/plain": [
       "name                           4\n",
       "stationcode                    0\n",
       "ebike                          0\n",
       "mechanical                     0\n",
       "coordonnees_geo                4\n",
       "duedate                        0\n",
       "numbikesavailable              0\n",
       "numdocksavailable              0\n",
       "capacity                       4\n",
       "is_renting                     0\n",
       "is_installed                   0\n",
       "nom_arrondissement_communes    4\n",
       "is_returning                   0\n",
       "ping_time                      0\n",
       "dtype: int64"
      ]
     },
     "execution_count": 28,
     "metadata": {},
     "output_type": "execute_result"
    }
   ],
   "source": [
    "df['DEC_2022'].isnull().sum()    # 4 valeurs nulles dans 4 colonnes (name, coordonnees_geo, \n",
    "                                  #capacity, nom_arrondissement_communes)"
   ]
  },
  {
   "cell_type": "code",
   "execution_count": 29,
   "id": "1372eb59",
   "metadata": {},
   "outputs": [
    {
     "data": {
      "text/plain": [
       "name                             1430\n",
       "stationcode                      2857\n",
       "ebike                              48\n",
       "mechanical                         71\n",
       "coordonnees_geo                  1436\n",
       "duedate                        154546\n",
       "numbikesavailable                  79\n",
       "numdocksavailable                  68\n",
       "capacity                           62\n",
       "is_renting                          2\n",
       "is_installed                        2\n",
       "nom_arrondissement_communes        61\n",
       "is_returning                        2\n",
       "ping_time                        4142\n",
       "dtype: int64"
      ]
     },
     "execution_count": 29,
     "metadata": {},
     "output_type": "execute_result"
    }
   ],
   "source": [
    "df['DEC_2022'].nunique()"
   ]
  },
  {
   "cell_type": "code",
   "execution_count": 30,
   "id": "b6ebee71",
   "metadata": {},
   "outputs": [
    {
     "data": {
      "text/plain": [
       "0"
      ]
     },
     "execution_count": 30,
     "metadata": {},
     "output_type": "execute_result"
    }
   ],
   "source": [
    "df['DEC_2022'].duplicated().sum() # pas de lignes en doublon"
   ]
  },
  {
   "cell_type": "code",
   "execution_count": 31,
   "id": "5c6a8c0d",
   "metadata": {},
   "outputs": [
    {
     "data": {
      "text/plain": [
       "08/12/2022 16:01:00    1427\n",
       "08/12/2022 02:46:01    1427\n",
       "08/12/2022 04:36:01    1427\n",
       "08/12/2022 04:26:01    1427\n",
       "08/12/2022 04:16:01    1427\n",
       "                       ... \n",
       "08/01/2023 03:40:01       5\n",
       "08/01/2023 03:30:01       5\n",
       "08/01/2023 03:20:01       5\n",
       "08/01/2023 03:10:01       5\n",
       "17/01/2023 09:20:01       5\n",
       "Name: ping_time, Length: 4142, dtype: int64"
      ]
     },
     "execution_count": 31,
     "metadata": {},
     "output_type": "execute_result"
    }
   ],
   "source": [
    "df['DEC_2022']['ping_time'].value_counts()"
   ]
  },
  {
   "cell_type": "markdown",
   "id": "c094bfbf",
   "metadata": {},
   "source": [
    "JANVIER 2023"
   ]
  },
  {
   "cell_type": "code",
   "execution_count": 32,
   "id": "645d7c25",
   "metadata": {},
   "outputs": [
    {
     "name": "stdout",
     "output_type": "stream",
     "text": [
      "<class 'pandas.core.frame.DataFrame'>\n",
      "RangeIndex: 6208767 entries, 0 to 6208766\n",
      "Data columns (total 14 columns):\n",
      " #   Column                       Dtype  \n",
      "---  ------                       -----  \n",
      " 0   name                         object \n",
      " 1   stationcode                  int64  \n",
      " 2   ebike                        int64  \n",
      " 3   mechanical                   int64  \n",
      " 4   coordonnees_geo              object \n",
      " 5   duedate                      object \n",
      " 6   numbikesavailable            int64  \n",
      " 7   numdocksavailable            int64  \n",
      " 8   capacity                     float64\n",
      " 9   is_renting                   object \n",
      " 10  is_installed                 object \n",
      " 11  nom_arrondissement_communes  object \n",
      " 12  is_returning                 object \n",
      " 13  ping_time                    object \n",
      "dtypes: float64(1), int64(5), object(8)\n",
      "memory usage: 663.2+ MB\n"
     ]
    }
   ],
   "source": [
    "df['JAN_2023'].info() # 14 colonnes et 6208766 lignes"
   ]
  },
  {
   "cell_type": "code",
   "execution_count": 33,
   "id": "5d45b340",
   "metadata": {},
   "outputs": [
    {
     "data": {
      "text/plain": [
       "name                           12\n",
       "stationcode                     0\n",
       "ebike                           0\n",
       "mechanical                      0\n",
       "coordonnees_geo                12\n",
       "duedate                         0\n",
       "numbikesavailable               0\n",
       "numdocksavailable               0\n",
       "capacity                       12\n",
       "is_renting                      0\n",
       "is_installed                    0\n",
       "nom_arrondissement_communes    12\n",
       "is_returning                    0\n",
       "ping_time                       0\n",
       "dtype: int64"
      ]
     },
     "execution_count": 33,
     "metadata": {},
     "output_type": "execute_result"
    }
   ],
   "source": [
    "df['JAN_2023'].isnull().sum() # 12 valeurs nulles dans 4 colonnes (name, coordonnees_geo, \n",
    "                                  #capacity, nom_arrondissement_communes)"
   ]
  },
  {
   "cell_type": "code",
   "execution_count": 34,
   "id": "9264da05",
   "metadata": {},
   "outputs": [
    {
     "data": {
      "text/plain": [
       "name                             1430\n",
       "stationcode                      1432\n",
       "ebike                              50\n",
       "mechanical                         78\n",
       "coordonnees_geo                  1451\n",
       "duedate                        313891\n",
       "numbikesavailable                  83\n",
       "numdocksavailable                  71\n",
       "capacity                           63\n",
       "is_renting                          2\n",
       "is_installed                        2\n",
       "nom_arrondissement_communes        61\n",
       "is_returning                        2\n",
       "ping_time                        4406\n",
       "dtype: int64"
      ]
     },
     "execution_count": 34,
     "metadata": {},
     "output_type": "execute_result"
    }
   ],
   "source": [
    "df['JAN_2023'].nunique()"
   ]
  },
  {
   "cell_type": "code",
   "execution_count": 35,
   "id": "09456e15",
   "metadata": {},
   "outputs": [
    {
     "data": {
      "text/plain": [
       "0"
      ]
     },
     "execution_count": 35,
     "metadata": {},
     "output_type": "execute_result"
    }
   ],
   "source": [
    "df['JAN_2023'].duplicated().sum() # pas de lignes en dopublon"
   ]
  },
  {
   "cell_type": "markdown",
   "id": "f9192657",
   "metadata": {},
   "source": [
    "FEVRIER 2023"
   ]
  },
  {
   "cell_type": "code",
   "execution_count": 36,
   "id": "3efaf990",
   "metadata": {},
   "outputs": [
    {
     "name": "stdout",
     "output_type": "stream",
     "text": [
      "<class 'pandas.core.frame.DataFrame'>\n",
      "RangeIndex: 5045090 entries, 0 to 5045089\n",
      "Data columns (total 14 columns):\n",
      " #   Column                       Dtype  \n",
      "---  ------                       -----  \n",
      " 0   name                         object \n",
      " 1   stationcode                  int64  \n",
      " 2   ebike                        int64  \n",
      " 3   mechanical                   int64  \n",
      " 4   coordonnees_geo              object \n",
      " 5   duedate                      object \n",
      " 6   numbikesavailable            int64  \n",
      " 7   numdocksavailable            int64  \n",
      " 8   capacity                     float64\n",
      " 9   is_renting                   object \n",
      " 10  is_installed                 object \n",
      " 11  nom_arrondissement_communes  object \n",
      " 12  is_returning                 object \n",
      " 13  ping_time                    object \n",
      "dtypes: float64(1), int64(5), object(8)\n",
      "memory usage: 538.9+ MB\n"
     ]
    }
   ],
   "source": [
    "df['FEB_2023'].info() # 14 colonnes et 5045089 lignes"
   ]
  },
  {
   "cell_type": "code",
   "execution_count": 37,
   "id": "554739b3",
   "metadata": {},
   "outputs": [
    {
     "data": {
      "text/plain": [
       "name                           2\n",
       "stationcode                    0\n",
       "ebike                          0\n",
       "mechanical                     0\n",
       "coordonnees_geo                2\n",
       "duedate                        0\n",
       "numbikesavailable              0\n",
       "numdocksavailable              0\n",
       "capacity                       2\n",
       "is_renting                     0\n",
       "is_installed                   0\n",
       "nom_arrondissement_communes    2\n",
       "is_returning                   0\n",
       "ping_time                      0\n",
       "dtype: int64"
      ]
     },
     "execution_count": 37,
     "metadata": {},
     "output_type": "execute_result"
    }
   ],
   "source": [
    "df['FEB_2023'].isnull().sum()  # 2 valeurs nulles dans 4 colonnes (name, coordonnees_geo, \n",
    "                                  #capacity, nom_arrondissement_communes)"
   ]
  },
  {
   "cell_type": "code",
   "execution_count": 38,
   "id": "ff9270d8",
   "metadata": {},
   "outputs": [
    {
     "data": {
      "text/plain": [
       "0"
      ]
     },
     "execution_count": 38,
     "metadata": {},
     "output_type": "execute_result"
    }
   ],
   "source": [
    "df['FEB_2023'].duplicated().sum() # pas de lignes en doublon"
   ]
  },
  {
   "cell_type": "code",
   "execution_count": 39,
   "id": "3835531d",
   "metadata": {
    "scrolled": true
   },
   "outputs": [
    {
     "data": {
      "text/plain": [
       "name                             1428\n",
       "stationcode                      1429\n",
       "ebike                              60\n",
       "mechanical                         77\n",
       "coordonnees_geo                  1442\n",
       "duedate                        249596\n",
       "numbikesavailable                  83\n",
       "numdocksavailable                  70\n",
       "capacity                           62\n",
       "is_renting                          2\n",
       "is_installed                        2\n",
       "nom_arrondissement_communes        61\n",
       "is_returning                        2\n",
       "ping_time                        9783\n",
       "dtype: int64"
      ]
     },
     "execution_count": 39,
     "metadata": {},
     "output_type": "execute_result"
    }
   ],
   "source": [
    "df['FEB_2023'].nunique()"
   ]
  },
  {
   "cell_type": "markdown",
   "id": "5e10a703",
   "metadata": {},
   "source": [
    "MAI 2023"
   ]
  },
  {
   "cell_type": "code",
   "execution_count": 40,
   "id": "3f8290eb",
   "metadata": {},
   "outputs": [
    {
     "name": "stdout",
     "output_type": "stream",
     "text": [
      "<class 'pandas.core.frame.DataFrame'>\n",
      "RangeIndex: 6596288 entries, 0 to 6596287\n",
      "Data columns (total 14 columns):\n",
      " #   Column                       Dtype  \n",
      "---  ------                       -----  \n",
      " 0   name                         object \n",
      " 1   stationcode                  object \n",
      " 2   ebike                        int64  \n",
      " 3   mechanical                   int64  \n",
      " 4   coordonnees_geo              object \n",
      " 5   duedate                      object \n",
      " 6   numbikesavailable            int64  \n",
      " 7   numdocksavailable            int64  \n",
      " 8   capacity                     float64\n",
      " 9   is_renting                   object \n",
      " 10  is_installed                 object \n",
      " 11  nom_arrondissement_communes  object \n",
      " 12  is_returning                 object \n",
      " 13  ping_time                    object \n",
      "dtypes: float64(1), int64(4), object(9)\n",
      "memory usage: 704.6+ MB\n"
     ]
    }
   ],
   "source": [
    "df['MAY_2023'].info() # 14 colonnes et 6596287 lignes"
   ]
  },
  {
   "cell_type": "code",
   "execution_count": 41,
   "id": "912887ea",
   "metadata": {},
   "outputs": [
    {
     "data": {
      "text/plain": [
       "name                           5\n",
       "stationcode                    0\n",
       "ebike                          0\n",
       "mechanical                     0\n",
       "coordonnees_geo                5\n",
       "duedate                        0\n",
       "numbikesavailable              0\n",
       "numdocksavailable              0\n",
       "capacity                       5\n",
       "is_renting                     0\n",
       "is_installed                   0\n",
       "nom_arrondissement_communes    5\n",
       "is_returning                   0\n",
       "ping_time                      0\n",
       "dtype: int64"
      ]
     },
     "execution_count": 41,
     "metadata": {},
     "output_type": "execute_result"
    }
   ],
   "source": [
    "df['MAY_2023'].isnull().sum()  # 5 valeurs nulles dans 4 colonnes (name, coordonnees_geo, \n",
    "                                  #capacity, nom_arrondissement_communes)"
   ]
  },
  {
   "cell_type": "code",
   "execution_count": 42,
   "id": "8b7b1b3d",
   "metadata": {},
   "outputs": [
    {
     "data": {
      "text/plain": [
       "0"
      ]
     },
     "execution_count": 42,
     "metadata": {},
     "output_type": "execute_result"
    }
   ],
   "source": [
    "df['MAY_2023'].duplicated().sum() # pas de lignes en doublon"
   ]
  },
  {
   "cell_type": "code",
   "execution_count": 43,
   "id": "124dbc00",
   "metadata": {},
   "outputs": [
    {
     "data": {
      "text/plain": [
       "name                             1436\n",
       "stationcode                      2870\n",
       "ebike                              62\n",
       "mechanical                         72\n",
       "coordonnees_geo                  1452\n",
       "duedate                        313219\n",
       "numbikesavailable                  85\n",
       "numdocksavailable                  69\n",
       "capacity                           62\n",
       "is_renting                          2\n",
       "is_installed                        2\n",
       "nom_arrondissement_communes        62\n",
       "is_returning                        2\n",
       "ping_time                        4686\n",
       "dtype: int64"
      ]
     },
     "execution_count": 43,
     "metadata": {},
     "output_type": "execute_result"
    }
   ],
   "source": [
    "df['MAY_2023'].nunique()"
   ]
  },
  {
   "cell_type": "markdown",
   "id": "55a442bb",
   "metadata": {},
   "source": [
    "JUIN 2023"
   ]
  },
  {
   "cell_type": "code",
   "execution_count": 44,
   "id": "b85910c6",
   "metadata": {},
   "outputs": [
    {
     "name": "stdout",
     "output_type": "stream",
     "text": [
      "<class 'pandas.core.frame.DataFrame'>\n",
      "RangeIndex: 4647744 entries, 0 to 4647743\n",
      "Data columns (total 14 columns):\n",
      " #   Column                       Dtype  \n",
      "---  ------                       -----  \n",
      " 0   name                         object \n",
      " 1   stationcode                  int64  \n",
      " 2   ebike                        int64  \n",
      " 3   mechanical                   int64  \n",
      " 4   coordonnees_geo              object \n",
      " 5   duedate                      object \n",
      " 6   numbikesavailable            int64  \n",
      " 7   numdocksavailable            int64  \n",
      " 8   capacity                     float64\n",
      " 9   is_renting                   object \n",
      " 10  is_installed                 object \n",
      " 11  nom_arrondissement_communes  object \n",
      " 12  is_returning                 object \n",
      " 13  ping_time                    object \n",
      "dtypes: float64(1), int64(5), object(8)\n",
      "memory usage: 496.4+ MB\n"
     ]
    }
   ],
   "source": [
    "df['JUNE_2023'].info()   # 14 colonnes et 4647743 lignes"
   ]
  },
  {
   "cell_type": "code",
   "execution_count": 45,
   "id": "a980f13a",
   "metadata": {},
   "outputs": [
    {
     "data": {
      "text/plain": [
       "name                           2\n",
       "stationcode                    0\n",
       "ebike                          0\n",
       "mechanical                     0\n",
       "coordonnees_geo                2\n",
       "duedate                        0\n",
       "numbikesavailable              0\n",
       "numdocksavailable              0\n",
       "capacity                       2\n",
       "is_renting                     0\n",
       "is_installed                   0\n",
       "nom_arrondissement_communes    2\n",
       "is_returning                   0\n",
       "ping_time                      0\n",
       "dtype: int64"
      ]
     },
     "execution_count": 45,
     "metadata": {},
     "output_type": "execute_result"
    }
   ],
   "source": [
    "df['JUNE_2023'].isnull().sum()  # 2 valeurs nulles dans 4 colonnes (name, coordonnees_geo, \n",
    "                                  #capacity, nom_arrondissement_communes)"
   ]
  },
  {
   "cell_type": "code",
   "execution_count": 46,
   "id": "22bf50e6",
   "metadata": {},
   "outputs": [
    {
     "data": {
      "text/plain": [
       "0"
      ]
     },
     "execution_count": 46,
     "metadata": {},
     "output_type": "execute_result"
    }
   ],
   "source": [
    "df['JUNE_2023'].duplicated().sum() # pas de lignes en doublon"
   ]
  },
  {
   "cell_type": "code",
   "execution_count": 47,
   "id": "6ed010c7",
   "metadata": {},
   "outputs": [
    {
     "data": {
      "text/plain": [
       "name                             1442\n",
       "stationcode                      1444\n",
       "ebike                             199\n",
       "mechanical                        203\n",
       "coordonnees_geo                  1450\n",
       "duedate                        219544\n",
       "numbikesavailable                 227\n",
       "numdocksavailable                  72\n",
       "capacity                           64\n",
       "is_renting                          2\n",
       "is_installed                        2\n",
       "nom_arrondissement_communes        62\n",
       "is_returning                        2\n",
       "ping_time                        3863\n",
       "dtype: int64"
      ]
     },
     "execution_count": 47,
     "metadata": {},
     "output_type": "execute_result"
    }
   ],
   "source": [
    "df['JUNE_2023'].nunique()"
   ]
  },
  {
   "cell_type": "markdown",
   "id": "ff89419b",
   "metadata": {},
   "source": [
    "JUILLET 2023"
   ]
  },
  {
   "cell_type": "code",
   "execution_count": 48,
   "id": "5b144aa3",
   "metadata": {},
   "outputs": [
    {
     "name": "stdout",
     "output_type": "stream",
     "text": [
      "<class 'pandas.core.frame.DataFrame'>\n",
      "RangeIndex: 6691870 entries, 0 to 6691869\n",
      "Data columns (total 14 columns):\n",
      " #   Column                       Dtype  \n",
      "---  ------                       -----  \n",
      " 0   name                         object \n",
      " 1   stationcode                  int64  \n",
      " 2   ebike                        int64  \n",
      " 3   mechanical                   int64  \n",
      " 4   coordonnees_geo              object \n",
      " 5   duedate                      object \n",
      " 6   numbikesavailable            int64  \n",
      " 7   numdocksavailable            int64  \n",
      " 8   capacity                     float64\n",
      " 9   is_renting                   object \n",
      " 10  is_installed                 object \n",
      " 11  nom_arrondissement_communes  object \n",
      " 12  is_returning                 object \n",
      " 13  ping_time                    object \n",
      "dtypes: float64(1), int64(5), object(8)\n",
      "memory usage: 714.8+ MB\n"
     ]
    }
   ],
   "source": [
    "df['JULY_2023'].info()  # 14 colonnes et 6691869 lignes"
   ]
  },
  {
   "cell_type": "code",
   "execution_count": 49,
   "id": "78359d78",
   "metadata": {
    "scrolled": true
   },
   "outputs": [
    {
     "data": {
      "text/plain": [
       "name                           36\n",
       "stationcode                     0\n",
       "ebike                           0\n",
       "mechanical                      0\n",
       "coordonnees_geo                36\n",
       "duedate                         0\n",
       "numbikesavailable               0\n",
       "numdocksavailable               0\n",
       "capacity                       36\n",
       "is_renting                      0\n",
       "is_installed                    0\n",
       "nom_arrondissement_communes    36\n",
       "is_returning                    0\n",
       "ping_time                       0\n",
       "dtype: int64"
      ]
     },
     "execution_count": 49,
     "metadata": {},
     "output_type": "execute_result"
    }
   ],
   "source": [
    "df['JULY_2023'].isnull().sum() # 36 valeurs nulles dans 4 colonnes (name, coordonnees_geo, \n",
    "                                  #capacity, nom_arrondissement_communes)"
   ]
  },
  {
   "cell_type": "code",
   "execution_count": 50,
   "id": "57b18467",
   "metadata": {},
   "outputs": [
    {
     "data": {
      "text/plain": [
       "0"
      ]
     },
     "execution_count": 50,
     "metadata": {},
     "output_type": "execute_result"
    }
   ],
   "source": [
    "df['JULY_2023'].duplicated().sum() # pas de lignes en doublon"
   ]
  },
  {
   "cell_type": "code",
   "execution_count": 51,
   "id": "e4de100a",
   "metadata": {},
   "outputs": [
    {
     "data": {
      "text/plain": [
       "name                             1451\n",
       "stationcode                      1452\n",
       "ebike                              58\n",
       "mechanical                         72\n",
       "coordonnees_geo                  1480\n",
       "duedate                        330578\n",
       "numbikesavailable                  85\n",
       "numdocksavailable                  71\n",
       "capacity                           63\n",
       "is_renting                          2\n",
       "is_installed                        2\n",
       "nom_arrondissement_communes        62\n",
       "is_returning                        2\n",
       "ping_time                       12714\n",
       "dtype: int64"
      ]
     },
     "execution_count": 51,
     "metadata": {},
     "output_type": "execute_result"
    }
   ],
   "source": [
    "df['JULY_2023'].nunique()"
   ]
  },
  {
   "cell_type": "markdown",
   "id": "378dbcf8",
   "metadata": {},
   "source": [
    "AOUT 2023"
   ]
  },
  {
   "cell_type": "code",
   "execution_count": 52,
   "id": "9b675857",
   "metadata": {},
   "outputs": [
    {
     "name": "stdout",
     "output_type": "stream",
     "text": [
      "<class 'pandas.core.frame.DataFrame'>\n",
      "RangeIndex: 6635861 entries, 0 to 6635860\n",
      "Data columns (total 14 columns):\n",
      " #   Column                       Dtype  \n",
      "---  ------                       -----  \n",
      " 0   name                         object \n",
      " 1   stationcode                  int64  \n",
      " 2   ebike                        int64  \n",
      " 3   mechanical                   int64  \n",
      " 4   coordonnees_geo              object \n",
      " 5   duedate                      object \n",
      " 6   numbikesavailable            int64  \n",
      " 7   numdocksavailable            int64  \n",
      " 8   capacity                     float64\n",
      " 9   is_renting                   object \n",
      " 10  is_installed                 object \n",
      " 11  nom_arrondissement_communes  object \n",
      " 12  is_returning                 object \n",
      " 13  ping_time                    object \n",
      "dtypes: float64(1), int64(5), object(8)\n",
      "memory usage: 708.8+ MB\n"
     ]
    }
   ],
   "source": [
    "df['AUG_2023'].info()  # 14 colonnes et 6635860 lignes"
   ]
  },
  {
   "cell_type": "code",
   "execution_count": 53,
   "id": "eaef56fc",
   "metadata": {},
   "outputs": [
    {
     "data": {
      "text/plain": [
       "name                           13\n",
       "stationcode                     0\n",
       "ebike                           0\n",
       "mechanical                      0\n",
       "coordonnees_geo                13\n",
       "duedate                         0\n",
       "numbikesavailable               0\n",
       "numdocksavailable               0\n",
       "capacity                       13\n",
       "is_renting                      0\n",
       "is_installed                    0\n",
       "nom_arrondissement_communes    13\n",
       "is_returning                    0\n",
       "ping_time                       0\n",
       "dtype: int64"
      ]
     },
     "execution_count": 53,
     "metadata": {},
     "output_type": "execute_result"
    }
   ],
   "source": [
    "df['AUG_2023'].isnull().sum()   # 13 valeurs nulles dans 4 colonnes (name, coordonnees_geo, \n",
    "                                  #capacity, nom_arrondissement_communes)"
   ]
  },
  {
   "cell_type": "code",
   "execution_count": 54,
   "id": "268dc9bd",
   "metadata": {},
   "outputs": [
    {
     "data": {
      "text/plain": [
       "0"
      ]
     },
     "execution_count": 54,
     "metadata": {},
     "output_type": "execute_result"
    }
   ],
   "source": [
    "df['AUG_2023'].duplicated().sum() # pas de lignes en doublon"
   ]
  },
  {
   "cell_type": "code",
   "execution_count": 55,
   "id": "340ea12b",
   "metadata": {},
   "outputs": [
    {
     "data": {
      "text/plain": [
       "name                             1441\n",
       "stationcode                      1442\n",
       "ebike                              73\n",
       "mechanical                         76\n",
       "coordonnees_geo                  1458\n",
       "duedate                        337022\n",
       "numbikesavailable                  97\n",
       "numdocksavailable                  71\n",
       "capacity                           64\n",
       "is_renting                          2\n",
       "is_installed                        2\n",
       "nom_arrondissement_communes        62\n",
       "is_returning                        2\n",
       "ping_time                        8285\n",
       "dtype: int64"
      ]
     },
     "execution_count": 55,
     "metadata": {},
     "output_type": "execute_result"
    }
   ],
   "source": [
    "df['AUG_2023'].nunique()"
   ]
  },
  {
   "cell_type": "markdown",
   "id": "5cf9270b",
   "metadata": {},
   "source": [
    "SEPTEMBRE 2023"
   ]
  },
  {
   "cell_type": "code",
   "execution_count": 56,
   "id": "67a1fe51",
   "metadata": {},
   "outputs": [
    {
     "name": "stdout",
     "output_type": "stream",
     "text": [
      "<class 'pandas.core.frame.DataFrame'>\n",
      "RangeIndex: 6280391 entries, 0 to 6280390\n",
      "Data columns (total 14 columns):\n",
      " #   Column                       Dtype  \n",
      "---  ------                       -----  \n",
      " 0   name                         object \n",
      " 1   stationcode                  float64\n",
      " 2   ebike                        float64\n",
      " 3   mechanical                   float64\n",
      " 4   coordonnees_geo              object \n",
      " 5   duedate                      object \n",
      " 6   numbikesavailable            int64  \n",
      " 7   numdocksavailable            int64  \n",
      " 8   capacity                     float64\n",
      " 9   is_renting                   object \n",
      " 10  is_installed                 object \n",
      " 11  nom_arrondissement_communes  object \n",
      " 12  is_returning                 object \n",
      " 13  ping_time                    object \n",
      "dtypes: float64(4), int64(2), object(8)\n",
      "memory usage: 670.8+ MB\n"
     ]
    }
   ],
   "source": [
    "df['SEP_2023'].info() # 14 colonnes et 6280390 lignes"
   ]
  },
  {
   "cell_type": "code",
   "execution_count": 57,
   "id": "89ce2c0e",
   "metadata": {},
   "outputs": [
    {
     "data": {
      "text/plain": [
       "name                           21\n",
       "stationcode                     1\n",
       "ebike                           1\n",
       "mechanical                      1\n",
       "coordonnees_geo                21\n",
       "duedate                         0\n",
       "numbikesavailable               0\n",
       "numdocksavailable               0\n",
       "capacity                       21\n",
       "is_renting                      0\n",
       "is_installed                    0\n",
       "nom_arrondissement_communes    21\n",
       "is_returning                    0\n",
       "ping_time                       0\n",
       "dtype: int64"
      ]
     },
     "execution_count": 57,
     "metadata": {},
     "output_type": "execute_result"
    }
   ],
   "source": [
    "df['SEP_2023'].isnull().sum() # 21 valeurs nulles dans 4 colonnes (name, coordonnees_geo, \n",
    "                                  #capacity, nom_arrondissement_communes)"
   ]
  },
  {
   "cell_type": "code",
   "execution_count": 58,
   "id": "935bb900",
   "metadata": {},
   "outputs": [
    {
     "data": {
      "text/plain": [
       "0"
      ]
     },
     "execution_count": 58,
     "metadata": {},
     "output_type": "execute_result"
    }
   ],
   "source": [
    "df['SEP_2023'].duplicated().sum()"
   ]
  },
  {
   "cell_type": "code",
   "execution_count": 59,
   "id": "d6dcafc7",
   "metadata": {},
   "outputs": [
    {
     "data": {
      "text/plain": [
       "name                             1442\n",
       "stationcode                      1443\n",
       "ebike                              70\n",
       "mechanical                         74\n",
       "coordonnees_geo                  1446\n",
       "duedate                        313037\n",
       "numbikesavailable                 105\n",
       "numdocksavailable                  75\n",
       "capacity                           63\n",
       "is_renting                          2\n",
       "is_installed                        2\n",
       "nom_arrondissement_communes        62\n",
       "is_returning                        2\n",
       "ping_time                        6339\n",
       "dtype: int64"
      ]
     },
     "execution_count": 59,
     "metadata": {},
     "output_type": "execute_result"
    }
   ],
   "source": [
    "df['SEP_2023'].nunique()"
   ]
  },
  {
   "cell_type": "markdown",
   "id": "b8681c7e",
   "metadata": {},
   "source": [
    "OCTOBRE 2023"
   ]
  },
  {
   "cell_type": "code",
   "execution_count": 60,
   "id": "e8225d57",
   "metadata": {},
   "outputs": [
    {
     "name": "stdout",
     "output_type": "stream",
     "text": [
      "<class 'pandas.core.frame.DataFrame'>\n",
      "RangeIndex: 1458122 entries, 0 to 1458121\n",
      "Data columns (total 14 columns):\n",
      " #   Column                       Non-Null Count    Dtype  \n",
      "---  ------                       --------------    -----  \n",
      " 0   name                         1458121 non-null  object \n",
      " 1   stationcode                  1458122 non-null  int64  \n",
      " 2   ebike                        1458122 non-null  int64  \n",
      " 3   mechanical                   1458122 non-null  int64  \n",
      " 4   coordonnees_geo              1458121 non-null  object \n",
      " 5   duedate                      1458122 non-null  object \n",
      " 6   numbikesavailable            1458122 non-null  int64  \n",
      " 7   numdocksavailable            1458122 non-null  int64  \n",
      " 8   capacity                     1458121 non-null  float64\n",
      " 9   is_renting                   1458122 non-null  object \n",
      " 10  is_installed                 1458122 non-null  object \n",
      " 11  nom_arrondissement_communes  1458121 non-null  object \n",
      " 12  is_returning                 1458122 non-null  object \n",
      " 13  ping_time                    1458122 non-null  object \n",
      "dtypes: float64(1), int64(5), object(8)\n",
      "memory usage: 155.7+ MB\n"
     ]
    }
   ],
   "source": [
    "df['OCT_2023'].info()   # 14 colonnes et 1458121 lignes"
   ]
  },
  {
   "cell_type": "code",
   "execution_count": 61,
   "id": "5e2e8517",
   "metadata": {},
   "outputs": [
    {
     "data": {
      "text/plain": [
       "0"
      ]
     },
     "execution_count": 61,
     "metadata": {},
     "output_type": "execute_result"
    }
   ],
   "source": [
    "df['OCT_2023'].duplicated().sum() # pas de ligne en doublon"
   ]
  },
  {
   "cell_type": "code",
   "execution_count": 62,
   "id": "f2d4eb0d",
   "metadata": {},
   "outputs": [
    {
     "data": {
      "text/plain": [
       "name                            1433\n",
       "stationcode                     1436\n",
       "ebike                             58\n",
       "mechanical                        87\n",
       "coordonnees_geo                 1438\n",
       "duedate                        72691\n",
       "numbikesavailable                 98\n",
       "numdocksavailable                 76\n",
       "capacity                          64\n",
       "is_renting                         2\n",
       "is_installed                       2\n",
       "nom_arrondissement_communes       62\n",
       "is_returning                       2\n",
       "ping_time                       2132\n",
       "dtype: int64"
      ]
     },
     "execution_count": 62,
     "metadata": {},
     "output_type": "execute_result"
    }
   ],
   "source": [
    "df['OCT_2023'].nunique()"
   ]
  },
  {
   "cell_type": "code",
   "execution_count": 66,
   "id": "f032ea53",
   "metadata": {},
   "outputs": [
    {
     "data": {
      "text/html": [
       "<div>\n",
       "<style scoped>\n",
       "    .dataframe tbody tr th:only-of-type {\n",
       "        vertical-align: middle;\n",
       "    }\n",
       "\n",
       "    .dataframe tbody tr th {\n",
       "        vertical-align: top;\n",
       "    }\n",
       "\n",
       "    .dataframe thead th {\n",
       "        text-align: right;\n",
       "    }\n",
       "</style>\n",
       "<table border=\"1\" class=\"dataframe\">\n",
       "  <thead>\n",
       "    <tr style=\"text-align: right;\">\n",
       "      <th></th>\n",
       "      <th>stationcode</th>\n",
       "      <th>ebike</th>\n",
       "      <th>mechanical</th>\n",
       "      <th>numbikesavailable</th>\n",
       "      <th>numdocksavailable</th>\n",
       "      <th>capacity</th>\n",
       "    </tr>\n",
       "  </thead>\n",
       "  <tbody>\n",
       "    <tr>\n",
       "      <th>count</th>\n",
       "      <td>1.458122e+06</td>\n",
       "      <td>1.458122e+06</td>\n",
       "      <td>1.458122e+06</td>\n",
       "      <td>1.458122e+06</td>\n",
       "      <td>1.458122e+06</td>\n",
       "      <td>1.458121e+06</td>\n",
       "    </tr>\n",
       "    <tr>\n",
       "      <th>mean</th>\n",
       "      <td>1.859761e+04</td>\n",
       "      <td>2.898886e+00</td>\n",
       "      <td>5.927998e+00</td>\n",
       "      <td>8.826885e+00</td>\n",
       "      <td>2.157281e+01</td>\n",
       "      <td>3.157744e+01</td>\n",
       "    </tr>\n",
       "    <tr>\n",
       "      <th>std</th>\n",
       "      <td>1.218500e+04</td>\n",
       "      <td>3.331086e+00</td>\n",
       "      <td>7.959044e+00</td>\n",
       "      <td>9.482628e+00</td>\n",
       "      <td>1.353260e+01</td>\n",
       "      <td>1.237467e+01</td>\n",
       "    </tr>\n",
       "    <tr>\n",
       "      <th>min</th>\n",
       "      <td>1.001000e+03</td>\n",
       "      <td>0.000000e+00</td>\n",
       "      <td>0.000000e+00</td>\n",
       "      <td>0.000000e+00</td>\n",
       "      <td>0.000000e+00</td>\n",
       "      <td>0.000000e+00</td>\n",
       "    </tr>\n",
       "    <tr>\n",
       "      <th>25%</th>\n",
       "      <td>1.102500e+04</td>\n",
       "      <td>1.000000e+00</td>\n",
       "      <td>1.000000e+00</td>\n",
       "      <td>2.000000e+00</td>\n",
       "      <td>1.300000e+01</td>\n",
       "      <td>2.300000e+01</td>\n",
       "    </tr>\n",
       "    <tr>\n",
       "      <th>50%</th>\n",
       "      <td>1.610100e+04</td>\n",
       "      <td>2.000000e+00</td>\n",
       "      <td>3.000000e+00</td>\n",
       "      <td>5.000000e+00</td>\n",
       "      <td>2.000000e+01</td>\n",
       "      <td>2.900000e+01</td>\n",
       "    </tr>\n",
       "    <tr>\n",
       "      <th>75%</th>\n",
       "      <td>2.195100e+04</td>\n",
       "      <td>4.000000e+00</td>\n",
       "      <td>8.000000e+00</td>\n",
       "      <td>1.300000e+01</td>\n",
       "      <td>2.900000e+01</td>\n",
       "      <td>3.700000e+01</td>\n",
       "    </tr>\n",
       "    <tr>\n",
       "      <th>max</th>\n",
       "      <td>9.200800e+04</td>\n",
       "      <td>9.700000e+01</td>\n",
       "      <td>1.660000e+02</td>\n",
       "      <td>2.630000e+02</td>\n",
       "      <td>2.010000e+02</td>\n",
       "      <td>2.010000e+02</td>\n",
       "    </tr>\n",
       "  </tbody>\n",
       "</table>\n",
       "</div>"
      ],
      "text/plain": [
       "        stationcode         ebike    mechanical  numbikesavailable  \\\n",
       "count  1.458122e+06  1.458122e+06  1.458122e+06       1.458122e+06   \n",
       "mean   1.859761e+04  2.898886e+00  5.927998e+00       8.826885e+00   \n",
       "std    1.218500e+04  3.331086e+00  7.959044e+00       9.482628e+00   \n",
       "min    1.001000e+03  0.000000e+00  0.000000e+00       0.000000e+00   \n",
       "25%    1.102500e+04  1.000000e+00  1.000000e+00       2.000000e+00   \n",
       "50%    1.610100e+04  2.000000e+00  3.000000e+00       5.000000e+00   \n",
       "75%    2.195100e+04  4.000000e+00  8.000000e+00       1.300000e+01   \n",
       "max    9.200800e+04  9.700000e+01  1.660000e+02       2.630000e+02   \n",
       "\n",
       "       numdocksavailable      capacity  \n",
       "count       1.458122e+06  1.458121e+06  \n",
       "mean        2.157281e+01  3.157744e+01  \n",
       "std         1.353260e+01  1.237467e+01  \n",
       "min         0.000000e+00  0.000000e+00  \n",
       "25%         1.300000e+01  2.300000e+01  \n",
       "50%         2.000000e+01  2.900000e+01  \n",
       "75%         2.900000e+01  3.700000e+01  \n",
       "max         2.010000e+02  2.010000e+02  "
      ]
     },
     "execution_count": 66,
     "metadata": {},
     "output_type": "execute_result"
    }
   ],
   "source": [
    "df['OCT_2023'].describe()"
   ]
  },
  {
   "cell_type": "markdown",
   "id": "948f1cb1",
   "metadata": {},
   "source": [
    "# PROFILING"
   ]
  },
  {
   "cell_type": "markdown",
   "id": "2311aa74",
   "metadata": {},
   "source": [
    "Nous sommes en présence de 14 fichiers plats csv contenant chacune une table dont les colonnes sont séparées par des \",\".\n",
    "\n",
    "Ce dataset contient les informations des stations Vélib dans les environs de Paris, mises à jour toutes les 10 minutes, et sur plusieurs mois (mai, juin, juillet, août, novembre et décembre) en 2022 et (janvier, février, mai, juin, juillet, août, septembre, octobre) en 2023. Ces données sont mises à disposition au public pour suivre l'évolution du service en temps réel.\n",
    "\n",
    "Ces 14 fichiers sont constitués de 14 colonnes et plus de 6 millions de lignes avec une clé primaire correspondant à la colonne \"station code\", pour le reste des colonnes, on a :\n",
    "\n",
    "- 'name' : nom de la station, format string texte,\n",
    "\n",
    "- 'stationcode' : numéro unique d’identification de la station. Ce numéro identifie la station au sein du service Vélib’ Métropole, format int(entier),\n",
    "   \n",
    "- 'ebike' : nombre vélo electrique dispo au moment du ping, format int(entier),\n",
    "\n",
    "- 'mechanical' : nombre vélo mécanique dispo au moment du ping, format string, \n",
    "\n",
    "- 'coordonnees_geo' : longitude de la station et latitude de la station, format string\n",
    "\n",
    "- 'duedate': Date actualisation de la données (instant T), format string à convertir en format date\n",
    "\n",
    "- 'numbikesavailable': nombre de vélos disponibles, format int,\n",
    "\n",
    "- 'numdocksavailable': nombre de bornettes disponibles, format int,\n",
    "  \n",
    "- 'capacity' : nombre de bornettes dans la station, format int,\n",
    "  \n",
    "- 'is_renting': variable binaire indiquant si la station peut louer des vélos (is_renting=oui si le statut de la station est opérationnel), format string,\n",
    "  \n",
    "- 'is_installed' :  variable binaire indiquant si la station a déjà été déployée (oui) ou est encore en cours de déploiement (non), format string,\n",
    "  \n",
    "- -'is_returning': variable binaire indiquant si la station peut recevoir des vélos (is_renting=oui si le statut de la station est opérationnel), format string,\n",
    "  \n",
    "- 'ping_time' (# last_reported : date de la dernière mise-à-jour ), format string,\n",
    "\n",
    "Dans la préparation qui suit, nous allons traiter chacune des tables pour sécuriser et nettoyer les jeux de données.    \n",
    "\n"
   ]
  },
  {
   "cell_type": "markdown",
   "id": "0a2066e5",
   "metadata": {},
   "source": [
    "# Traitement des données\n"
   ]
  },
  {
   "cell_type": "code",
   "execution_count": null,
   "id": "ce04afd7",
   "metadata": {},
   "outputs": [],
   "source": [
    "import os\n",
    " \n",
    "# On applique la fonction traitement_data sur chaque df et on enregistre le resultat sous forme de CSV.\n",
    "\n",
    "directory = 'dataset'\n",
    "\n",
    "i=0\n",
    "for filename in os.listdir(directory):\n",
    "    f = os.path.join(directory, filename)\n",
    "    if os.path.isfile(f):\n",
    "        print(i)\n",
    "        print(filename+':')\n",
    "        df = traitement_data(f)\n",
    "        df.to_csv('Data\\\\Data_velib\\\\data_entieres\\\\'+filename)\n",
    "        \n",
    "        print('\\n')\n",
    "        i+=1\n"
   ]
  }
 ],
 "metadata": {
  "kernelspec": {
   "display_name": "Python 3 (ipykernel)",
   "language": "python",
   "name": "python3"
  },
  "language_info": {
   "codemirror_mode": {
    "name": "ipython",
    "version": 3
   },
   "file_extension": ".py",
   "mimetype": "text/x-python",
   "name": "python",
   "nbconvert_exporter": "python",
   "pygments_lexer": "ipython3",
   "version": "3.11.5"
  }
 },
 "nbformat": 4,
 "nbformat_minor": 5
}
